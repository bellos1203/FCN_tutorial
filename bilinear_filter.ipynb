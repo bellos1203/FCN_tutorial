{
 "cells": [
  {
   "cell_type": "markdown",
   "metadata": {},
   "source": [
    "### Implement Bilinear Interpolation Filter"
   ]
  },
  {
   "cell_type": "code",
   "execution_count": null,
   "metadata": {},
   "outputs": [],
   "source": [
    "# libraries for plot\n",
    "import matplotlib.pyplot as plt\n",
    "%matplotlib inline\n",
    "import numpy as np\n",
    "import tensorflow as tf\n",
    "tf.enable_eager_execution()\n",
    "import os\n",
    "os.environ[\"CUDA_DEVICE_ORDER\"] = \"PCI_BUS_ID\"\n",
    "os.environ['CUDA_VISIBLE_DEVICES'] = '2'"
   ]
  },
  {
   "cell_type": "markdown",
   "metadata": {},
   "source": [
    "### Draw a Circle"
   ]
  },
  {
   "cell_type": "code",
   "execution_count": null,
   "metadata": {},
   "outputs": [],
   "source": [
    "x = np.zeros((11,11))\n",
    "# draw a circle by filling ones\n",
    "cx, cy, r = 5, 5, 4\n",
    "for i in range(cx-r,cx+r+1):\n",
    "    for j in range(cy-r, cy+r+1):\n",
    "        if (i-cx)*(i-cx) + (j-cy)*(j-cy) <= r*r:\n",
    "            x[j,i] = 1\n",
    "\n",
    "X = tf.convert_to_tensor(x)\n",
    "# showing rectangle\n",
    "plt.imshow(X)"
   ]
  },
  {
   "cell_type": "markdown",
   "metadata": {},
   "source": [
    "### Bilinear Function in Tensorflow"
   ]
  },
  {
   "cell_type": "code",
   "execution_count": null,
   "metadata": {},
   "outputs": [],
   "source": [
    "# Reshape X to 4-D tensor \n",
    "# X : [1,11,11,1]\n",
    "X = tf.expand_dims(tf.expand_dims(X,2),0)\n",
    "X_upsample = tf.image.resize_bilinear(X,[32*11,32*11])\n",
    "X = tf.squeeze(X)\n",
    "X_upsample = tf.squeeze(X_upsample)"
   ]
  },
  {
   "cell_type": "code",
   "execution_count": null,
   "metadata": {},
   "outputs": [],
   "source": [
    "plt.figure(figsize=(20,10))\n",
    "\n",
    "plt.subplot(1,2,1)\n",
    "plt.imshow(X)\n",
    "plt.title('Before : 11x11')\n",
    "\n",
    "plt.subplot(1,2,2)\n",
    "plt.imshow(X_upsample)\n",
    "plt.title('After : 352x352')"
   ]
  },
  {
   "cell_type": "markdown",
   "metadata": {},
   "source": [
    "### Implement naive bilinear interpolation filter\n",
    "- https://en.wikipedia.org/wiki/Bilinear_interpolation"
   ]
  },
  {
   "cell_type": "code",
   "execution_count": null,
   "metadata": {},
   "outputs": [],
   "source": [
    "F_bi = np.zeros((64,64))\n",
    "# TODO\n",
    "\n",
    "# F = A B\n",
    "#     C D\n",
    "\n",
    "# A\n",
    "for j in range(0,32):\n",
    "    for i in range(0, 32):\n",
    "        F_bi[j,i] = (i/32)*(j/32)\n",
    "\n",
    "# B\n",
    "        \n",
    "# C\n",
    "\n",
    "# D\n",
    "\n",
    "\n",
    "FBI = tf.convert_to_tensor(F_bi)"
   ]
  },
  {
   "cell_type": "code",
   "execution_count": null,
   "metadata": {},
   "outputs": [],
   "source": [
    "plt.imshow(FBI)"
   ]
  },
  {
   "cell_type": "markdown",
   "metadata": {},
   "source": [
    "### Apply Filter to X"
   ]
  },
  {
   "cell_type": "code",
   "execution_count": null,
   "metadata": {},
   "outputs": [],
   "source": [
    "### Dimension of X and FBI must be expanded \n",
    "### TODO\n",
    "X = \n",
    "FBI = "
   ]
  },
  {
   "cell_type": "code",
   "execution_count": null,
   "metadata": {},
   "outputs": [],
   "source": [
    "print(X.shape)\n",
    "print(FBI.shape)"
   ]
  },
  {
   "cell_type": "code",
   "execution_count": null,
   "metadata": {},
   "outputs": [],
   "source": [
    "### Apply the filter to X by using 'tf.nn.conv2d_transpose'\n",
    "X_upsample_by_filter = "
   ]
  },
  {
   "cell_type": "code",
   "execution_count": null,
   "metadata": {},
   "outputs": [],
   "source": [
    "X_upsample_by_filter = tf.squeeze(X_upsample_by_filter)\n",
    "plt.imshow(X_upsample_by_filter)"
   ]
  },
  {
   "cell_type": "code",
   "execution_count": null,
   "metadata": {},
   "outputs": [],
   "source": []
  }
 ],
 "metadata": {
  "kernelspec": {
   "display_name": "Python 3",
   "language": "python",
   "name": "python3"
  },
  "language_info": {
   "codemirror_mode": {
    "name": "ipython",
    "version": 3
   },
   "file_extension": ".py",
   "mimetype": "text/x-python",
   "name": "python",
   "nbconvert_exporter": "python",
   "pygments_lexer": "ipython3",
   "version": "3.5.2"
  }
 },
 "nbformat": 4,
 "nbformat_minor": 2
}
